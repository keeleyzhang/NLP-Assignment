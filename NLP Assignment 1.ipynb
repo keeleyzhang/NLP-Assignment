{
 "cells": [
  {
   "cell_type": "markdown",
   "metadata": {},
   "source": [
    "# NLP Assignment 1\n",
    "## Feb.20th 2019"
   ]
  },
  {
   "cell_type": "code",
   "execution_count": 2,
   "metadata": {},
   "outputs": [],
   "source": [
    "from __future__ import division\n",
    "import argparse\n",
    "import pandas as pd\n",
    "\n",
    "# useful stuff\n",
    "import numpy as np\n",
    "from scipy.special import expit\n",
    "from sklearn.preprocessing import normalize"
   ]
  },
  {
   "cell_type": "code",
   "execution_count": 3,
   "metadata": {},
   "outputs": [],
   "source": [
    "__authors__ = ['author1','author2','author3']\n",
    "__emails__  = ['fatherchristmoas@northpole.dk','toothfairy@blackforest.no','easterbunny@greenfield.de']"
   ]
  },
  {
   "cell_type": "code",
   "execution_count": null,
   "metadata": {},
   "outputs": [],
   "source": [
    "def text2sentences(path):\n",
    "    # feel free to make a better tokenization/pre-processing\n",
    "    sentences = []\n",
    "    with open(path) as f:\n",
    "        for l in f:\n",
    "            sentences.append( l.lower().split() )\n",
    "    return sentences"
   ]
  },
  {
   "cell_type": "code",
   "execution_count": null,
   "metadata": {},
   "outputs": [],
   "source": [
    "def loadPairs(path):\n",
    "    data = pd.read_csv(path,delimiter='\\t')\n",
    "    pairs = zip(data['word1'],data['word2'],data['similarity'])\n",
    "    return pairs"
   ]
  },
  {
   "cell_type": "code",
   "execution_count": null,
   "metadata": {},
   "outputs": [],
   "source": [
    "class SkipGram:\n",
    "    def __init__(self,sentences, nEmbed=100, negativeRate=5, winSize = 5, minCount = 5):\n",
    "        # initial the parameters for SkipGram\n",
    "        # get the clean sentences by text2sentences\n",
    "        self.sentences = sentences\n",
    "        # number of neurons in the hidden layer = number of features in the word vector lookup table\n",
    "        self.nEmbed = nEmbed \n",
    "        # number of negative words when do negative sampling \n",
    "        self.negativeRate = negativeRate\n",
    "        # the limit on the number of words in each context\n",
    "        self.winSize = winSize\n",
    "        # the minimum frequency that a word should appear to be took into account\n",
    "        self.minCount = minCount\n",
    "        \n",
    "        # Preprocessing: creat the vocabulary-frequency dictionary\n",
    "        self.vocabDic = {}\n",
    "        for sent in sentences:\n",
    "            for word in sent:\n",
    "                if word in self.vocabDic:\n",
    "                    self.vocabDic[word] += 1\n",
    "                else:\n",
    "                    self.covabDic[word] = 1\n",
    "        #delete word whose frequency is lower than minCount\n",
    "        del_key = []\n",
    "        for word,value in self.vocabDic.items():\n",
    "            if value < self.minCount:\n",
    "                del_key.append(key)\n",
    "        for i in del_key:\n",
    "            del self.vocabDic[key]\n",
    "        \n",
    "\n",
    "    def train(self,stepsize, epochs):\n",
    "        raise NotImplementedError('implement it!')\n",
    "\n",
    "    def save(self,path):\n",
    "        raise NotImplementedError('implement it!')\n",
    "\n",
    "    def similarity(self,word1,word2):\n",
    "        \"\"\"\n",
    "            computes similiarity between the two words. unknown words are mapped to one common vector\n",
    "        :param word1:\n",
    "        :param word2:\n",
    "        :return: a float \\in [0,1] indicating the similarity (the higher the more similar)\n",
    "        \"\"\"\n",
    "        raise NotImplementedError('implement it!')\n",
    "\n",
    "    @staticmethod\n",
    "    def load(path):\n",
    "        raise NotImplementedError('implement it!')"
   ]
  },
  {
   "cell_type": "code",
   "execution_count": 8,
   "metadata": {},
   "outputs": [
    {
     "name": "stdout",
     "output_type": "stream",
     "text": [
      "{'c': 6, 'd': 10, 'e': 17}\n"
     ]
    }
   ],
   "source": [
    "dic = {'a':1, 'b':4, 'c':6, 'd':10, 'e':17}\n",
    "del_key = []\n",
    "for key, value in dic.items():\n",
    "    if value < 5:\n",
    "        del_key.append(key)\n",
    "for i in del_key:\n",
    "    del dic[i]\n",
    "\n",
    "print(dic)"
   ]
  },
  {
   "cell_type": "code",
   "execution_count": null,
   "metadata": {},
   "outputs": [],
   "source": [
    "if __name__ == '__main__':\n",
    "\n",
    "    parser = argparse.ArgumentParser()\n",
    "    parser.add_argument('--text', help='path containing training data', required=True)\n",
    "    parser.add_argument('--model', help='path to store/read model (when training/testing)', required=True)\n",
    "    parser.add_argument('--test', help='enters test mode', action='store_true')\n",
    "\n",
    "    opts = parser.parse_args()\n",
    "\n",
    "    if not opts.test:\n",
    "        sentences = text2sentences(opts.text)\n",
    "        sg = SkipGram(sentences)\n",
    "        sg.train(...)\n",
    "        sg.save(opts.model)\n",
    "\n",
    "    else:\n",
    "        pairs = loadPairs(opts.text)\n",
    "\n",
    "        sg = mSkipGram.load(opts.model)\n",
    "        for a,b,_ in pairs:\n",
    "            print sg.similarity(a,b)"
   ]
  }
 ],
 "metadata": {
  "kernelspec": {
   "display_name": "Python 3",
   "language": "python",
   "name": "python3"
  },
  "language_info": {
   "codemirror_mode": {
    "name": "ipython",
    "version": 3
   },
   "file_extension": ".py",
   "mimetype": "text/x-python",
   "name": "python",
   "nbconvert_exporter": "python",
   "pygments_lexer": "ipython3",
   "version": "3.7.0"
  }
 },
 "nbformat": 4,
 "nbformat_minor": 2
}
